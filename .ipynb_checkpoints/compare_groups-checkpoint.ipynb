{
 "metadata": {
  "name": "",
  "signature": "sha256:bcbb27f7281fbf69bc5df2853cc6ce27bf96005df3ecb9a1d8b268b95aa7cc6b"
 },
 "nbformat": 3,
 "nbformat_minor": 0,
 "worksheets": [
  {
   "cells": [
    {
     "cell_type": "code",
     "collapsed": false,
     "input": [
      "from __future__ import division\n",
      "\n",
      "%load_ext autoreload\n",
      "%autoreload 2\n",
      "%matplotlib inline\n",
      "\n",
      "import os\n",
      "\n",
      "import numpy as np\n",
      "import numpy.random as rn\n",
      "import pandas as pd\n",
      "import matplotlib.pylab as pl\n",
      "\n",
      "from dgeclust import compare_groups, compute_similarity_vector"
     ],
     "language": "python",
     "metadata": {},
     "outputs": [],
     "prompt_number": 1
    },
    {
     "cell_type": "code",
     "collapsed": false,
     "input": [
      "base = '/Users/dimitris/Repositories/benchmarks/'\n",
      "\n",
      "## compute posteriors\n",
      "for s in [3]:\n",
      "    for t in ['0a','0b','0c']:\n",
      "        for r in [2,4,8]:\n",
      "            for g in [2]:\n",
      "                indir = '{}/set{}/{}/{}/_clust{}'.format(base,t,r,g,s)\n",
      "                outfile = '{}/set{}/{}/{}/pvals{}.txt'.format(base,t,r,g,s)\n",
      "\n",
      "                print 'In directory {} ...'.format(indir),\n",
      "                pvals, nsamples = compare_groups(indir, '1', '2', t0=8000, tend=13000, dt=1)\n",
      "                pvals.to_csv(outfile, sep='\\t')\n",
      "                print 'Processed {} samples.'.format(nsamples)"
     ],
     "language": "python",
     "metadata": {},
     "outputs": [
      {
       "output_type": "stream",
       "stream": "stdout",
       "text": [
        "In directory /Users/dimitris/Repositories/benchmarks//set0a/2/2/_clust3 ..."
       ]
      },
      {
       "output_type": "stream",
       "stream": "stdout",
       "text": [
        " Processed 2001 samples.\n",
        "In directory /Users/dimitris/Repositories/benchmarks//set0a/4/2/_clust3 ..."
       ]
      },
      {
       "output_type": "stream",
       "stream": "stdout",
       "text": [
        " Processed 2001 samples.\n",
        "In directory /Users/dimitris/Repositories/benchmarks//set0a/8/2/_clust3 ..."
       ]
      },
      {
       "output_type": "stream",
       "stream": "stdout",
       "text": [
        " Processed 2001 samples.\n",
        "In directory /Users/dimitris/Repositories/benchmarks//set0b/2/2/_clust3 ..."
       ]
      },
      {
       "output_type": "stream",
       "stream": "stdout",
       "text": [
        " Processed 2001 samples.\n",
        "In directory /Users/dimitris/Repositories/benchmarks//set0b/4/2/_clust3 ..."
       ]
      },
      {
       "output_type": "stream",
       "stream": "stdout",
       "text": [
        " Processed 2001 samples.\n",
        "In directory /Users/dimitris/Repositories/benchmarks//set0b/8/2/_clust3 ..."
       ]
      },
      {
       "output_type": "stream",
       "stream": "stdout",
       "text": [
        " Processed 2001 samples.\n",
        "In directory /Users/dimitris/Repositories/benchmarks//set0c/2/2/_clust3 ..."
       ]
      },
      {
       "output_type": "stream",
       "stream": "stdout",
       "text": [
        " Processed 2001 samples.\n",
        "In directory /Users/dimitris/Repositories/benchmarks//set0c/4/2/_clust3 ..."
       ]
      },
      {
       "output_type": "stream",
       "stream": "stdout",
       "text": [
        " Processed 2001 samples.\n",
        "In directory /Users/dimitris/Repositories/benchmarks//set0c/8/2/_clust3 ..."
       ]
      },
      {
       "output_type": "stream",
       "stream": "stdout",
       "text": [
        " Processed 2001 samples.\n"
       ]
      }
     ],
     "prompt_number": 4
    },
    {
     "cell_type": "code",
     "collapsed": false,
     "input": [
      "base = '/Users/dimitris/Repositories/benchmarks/cage/2/'\n",
      "\n",
      "## compute posteriors\n",
      "groups = ['C','F','H','P','T']\n",
      "indir = os.path.join(base,'_cage')\n",
      "\n",
      "for i in range(4):\n",
      "    for j in range(i+1,5):\n",
      "        A = groups[i]\n",
      "        B = groups[j]\n",
      "        \n",
      "        outfile=os.path.join(base, 'DGEclust', 'pvals_{}{}.txt'.format(A, B))\n",
      "\n",
      "        pvals, nsamples = compare_groups(indir, A, B, t0=20000, tend=100000, dt=10, thr=0.1)\n",
      "        pvals.to_csv(outfile, sep='\\t')\n",
      "        print 'Processed {} samples; Results saved in {}'.format(nsamples, outfile)"
     ],
     "language": "python",
     "metadata": {},
     "outputs": []
    },
    {
     "cell_type": "code",
     "collapsed": false,
     "input": [
      "simvec, _ = compute_similarity_vector('/Users/dimitris/Repositories/benchmarks/cage/_cage/', t0=60000, tend=100000, dt=10)"
     ],
     "language": "python",
     "metadata": {},
     "outputs": [
      {
       "ename": "OSError",
       "evalue": "[Errno 2] No such file or directory: '/Users/dimitris/Repositories/benchmarks/cage/_cage/z'",
       "output_type": "pyerr",
       "traceback": [
        "\u001b[0;31m---------------------------------------------------------------------------\u001b[0m\n\u001b[0;31mOSError\u001b[0m                                   Traceback (most recent call last)",
        "\u001b[0;32m<ipython-input-3-53536ef95de0>\u001b[0m in \u001b[0;36m<module>\u001b[0;34m()\u001b[0m\n\u001b[0;32m----> 1\u001b[0;31m \u001b[0msimvec\u001b[0m\u001b[0;34m,\u001b[0m \u001b[0m_\u001b[0m \u001b[0;34m=\u001b[0m \u001b[0mcompute_similarity_vector\u001b[0m\u001b[0;34m(\u001b[0m\u001b[0;34m'/Users/dimitris/Repositories/benchmarks/cage/_cage/'\u001b[0m\u001b[0;34m,\u001b[0m \u001b[0mt0\u001b[0m\u001b[0;34m=\u001b[0m\u001b[0;36m60000\u001b[0m\u001b[0;34m,\u001b[0m \u001b[0mtend\u001b[0m\u001b[0;34m=\u001b[0m\u001b[0;36m100000\u001b[0m\u001b[0;34m,\u001b[0m \u001b[0mdt\u001b[0m\u001b[0;34m=\u001b[0m\u001b[0;36m10\u001b[0m\u001b[0;34m)\u001b[0m\u001b[0;34m\u001b[0m\u001b[0m\n\u001b[0m",
        "\u001b[0;32m/Users/dimitris/Repositories/dgeclust/dgeclust/postprocessing.pyc\u001b[0m in \u001b[0;36mcompute_similarity_vector\u001b[0;34m(indir, t0, tend, dt, inc, compare_features, nthreads)\u001b[0m\n\u001b[1;32m    111\u001b[0m \u001b[0;34m\u001b[0m\u001b[0m\n\u001b[1;32m    112\u001b[0m     \u001b[0;31m## read and sort contents of path\u001b[0m\u001b[0;34m\u001b[0m\u001b[0;34m\u001b[0m\u001b[0m\n\u001b[0;32m--> 113\u001b[0;31m     \u001b[0msample_names\u001b[0m \u001b[0;34m=\u001b[0m \u001b[0mos\u001b[0m\u001b[0;34m.\u001b[0m\u001b[0mlistdir\u001b[0m\u001b[0;34m(\u001b[0m\u001b[0mfull_indir\u001b[0m\u001b[0;34m)\u001b[0m\u001b[0;34m\u001b[0m\u001b[0m\n\u001b[0m\u001b[1;32m    114\u001b[0m     \u001b[0msample_names\u001b[0m \u001b[0;34m=\u001b[0m \u001b[0mnp\u001b[0m\u001b[0;34m.\u001b[0m\u001b[0msort\u001b[0m\u001b[0;34m(\u001b[0m\u001b[0mnp\u001b[0m\u001b[0;34m.\u001b[0m\u001b[0masarray\u001b[0m\u001b[0;34m(\u001b[0m\u001b[0msample_names\u001b[0m\u001b[0;34m,\u001b[0m \u001b[0mdtype\u001b[0m\u001b[0;34m=\u001b[0m\u001b[0;34m'int'\u001b[0m\u001b[0;34m)\u001b[0m\u001b[0;34m)\u001b[0m      \u001b[0;31m# ordered list of sample file names\u001b[0m\u001b[0;34m\u001b[0m\u001b[0m\n\u001b[1;32m    115\u001b[0m \u001b[0;34m\u001b[0m\u001b[0m\n",
        "\u001b[0;31mOSError\u001b[0m: [Errno 2] No such file or directory: '/Users/dimitris/Repositories/benchmarks/cage/_cage/z'"
       ]
      }
     ],
     "prompt_number": 3
    },
    {
     "cell_type": "code",
     "collapsed": false,
     "input": [
      "np.savetxt('/Users/dimitris/Repositories/benchmarks/cage/simvec_groups.txt', simvec)"
     ],
     "language": "python",
     "metadata": {},
     "outputs": [],
     "prompt_number": 4
    },
    {
     "cell_type": "code",
     "collapsed": false,
     "input": [
      "base = '/Users/dimitris/Repositories/benchmarks/cage/DGEclust/'\n",
      "\n",
      "## compute posteriors\n",
      "groups = ['C','F','H','P','T']\n",
      "\n",
      "idxs = []\n",
      "for i in range(4):\n",
      "    for j in range(i+1,5):\n",
      "        A = groups[i]\n",
      "        B = groups[j]\n",
      "        \n",
      "        infile=os.path.join(base, 'pvals_{}{}.txt'.format(A, B))\n",
      "\n",
      "        idxs.append(pd.read_table(infile,index_col=0).FDR.values < 0.01)\n",
      "        \n",
      "idxs = np.any(np.asarray(idxs), 0)\n",
      "\n",
      "idxs.sum()"
     ],
     "language": "python",
     "metadata": {},
     "outputs": [
      {
       "metadata": {},
       "output_type": "pyout",
       "prompt_number": 5,
       "text": [
        "2759"
       ]
      }
     ],
     "prompt_number": 5
    },
    {
     "cell_type": "code",
     "collapsed": false,
     "input": [
      "simvec, _ = compute_similarity_vector('/Users/dimitris/Repositories/benchmarks/cage/_cage/', t0=60000, tend=100000, dt=10, \n",
      "                                      compare_features=True, inc=idxs)"
     ],
     "language": "python",
     "metadata": {},
     "outputs": [],
     "prompt_number": 6
    },
    {
     "cell_type": "code",
     "collapsed": false,
     "input": [
      "np.savetxt('/Users/dimitris/Repositories/benchmarks/cage/simvec_features.txt',simvec)"
     ],
     "language": "python",
     "metadata": {},
     "outputs": [],
     "prompt_number": 10
    },
    {
     "cell_type": "code",
     "collapsed": false,
     "input": [
      "pvals, nsamples = compare_groups('_cage2/', 'C', 'F', t0=10000, tend=20000, dt=10, thr=0.1)"
     ],
     "language": "python",
     "metadata": {},
     "outputs": [],
     "prompt_number": 5
    },
    {
     "cell_type": "code",
     "collapsed": false,
     "input": [
      "(pvals.FDR < 0.01).sum()"
     ],
     "language": "python",
     "metadata": {},
     "outputs": [
      {
       "metadata": {},
       "output_type": "pyout",
       "prompt_number": 6,
       "text": [
        "32"
       ]
      }
     ],
     "prompt_number": 6
    },
    {
     "cell_type": "code",
     "collapsed": false,
     "input": [],
     "language": "python",
     "metadata": {},
     "outputs": []
    }
   ],
   "metadata": {}
  }
 ]
}