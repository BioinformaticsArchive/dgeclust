{
 "metadata": {
  "name": "",
  "signature": "sha256:22f66e5481f2bb0dc480840438bbca4914e8a1933bd999f1ba4107019958ef10"
 },
 "nbformat": 3,
 "nbformat_minor": 0,
 "worksheets": [
  {
   "cells": [
    {
     "cell_type": "code",
     "collapsed": false,
     "input": [
      "from __future__ import division\n",
      "\n",
      "%load_ext autoreload\n",
      "%autoreload 2\n",
      "%matplotlib inline\n",
      "\n",
      "import os\n",
      "\n",
      "import numpy as np\n",
      "import numpy.random as rn\n",
      "import pandas as pd\n",
      "import matplotlib.pylab as pl\n",
      "\n",
      "from dgeclust import compare_groups, compute_similarity_vector"
     ],
     "language": "python",
     "metadata": {},
     "outputs": [],
     "prompt_number": 1
    },
    {
     "cell_type": "code",
     "collapsed": false,
     "input": [
      "base = '/Users/dimitris/Repositories/benchmarks/'\n",
      "\n",
      "## compute posteriors\n",
      "for s in [3]:\n",
      "    for t in ['0a','0b','0c']:\n",
      "        for r in [2,4,8]:\n",
      "            for g in [2]:\n",
      "                indir = '{}/set{}/{}/{}/_clust{}'.format(base,t,r,g,s)\n",
      "                outfile = '{}/set{}/{}/{}/pvals{}.txt'.format(base,t,r,g,s)\n",
      "\n",
      "                print 'In directory {} ...'.format(indir),\n",
      "                pvals, nsamples = compare_groups(indir, '1', '2', t0=8000, tend=13000, dt=1)\n",
      "                pvals.to_csv(outfile, sep='\\t')\n",
      "                print 'Processed {} samples.'.format(nsamples)"
     ],
     "language": "python",
     "metadata": {},
     "outputs": [
      {
       "output_type": "stream",
       "stream": "stdout",
       "text": [
        "In directory /Users/dimitris/Repositories/benchmarks//set0a/2/2/_clust3 ..."
       ]
      },
      {
       "output_type": "stream",
       "stream": "stdout",
       "text": [
        " Processed 2001 samples.\n",
        "In directory /Users/dimitris/Repositories/benchmarks//set0a/4/2/_clust3 ..."
       ]
      },
      {
       "output_type": "stream",
       "stream": "stdout",
       "text": [
        " Processed 2001 samples.\n",
        "In directory /Users/dimitris/Repositories/benchmarks//set0a/8/2/_clust3 ..."
       ]
      },
      {
       "output_type": "stream",
       "stream": "stdout",
       "text": [
        " Processed 2001 samples.\n",
        "In directory /Users/dimitris/Repositories/benchmarks//set0b/2/2/_clust3 ..."
       ]
      },
      {
       "output_type": "stream",
       "stream": "stdout",
       "text": [
        " Processed 2001 samples.\n",
        "In directory /Users/dimitris/Repositories/benchmarks//set0b/4/2/_clust3 ..."
       ]
      },
      {
       "output_type": "stream",
       "stream": "stdout",
       "text": [
        " Processed 2001 samples.\n",
        "In directory /Users/dimitris/Repositories/benchmarks//set0b/8/2/_clust3 ..."
       ]
      },
      {
       "output_type": "stream",
       "stream": "stdout",
       "text": [
        " Processed 2001 samples.\n",
        "In directory /Users/dimitris/Repositories/benchmarks//set0c/2/2/_clust3 ..."
       ]
      },
      {
       "output_type": "stream",
       "stream": "stdout",
       "text": [
        " Processed 2001 samples.\n",
        "In directory /Users/dimitris/Repositories/benchmarks//set0c/4/2/_clust3 ..."
       ]
      },
      {
       "output_type": "stream",
       "stream": "stdout",
       "text": [
        " Processed 2001 samples.\n",
        "In directory /Users/dimitris/Repositories/benchmarks//set0c/8/2/_clust3 ..."
       ]
      },
      {
       "output_type": "stream",
       "stream": "stdout",
       "text": [
        " Processed 2001 samples.\n"
       ]
      }
     ],
     "prompt_number": 4
    },
    {
     "cell_type": "code",
     "collapsed": false,
     "input": [
      "base = '/Users/dimitris/Repositories/benchmarks/cage/2/DGEclust/'\n",
      "\n",
      "## compute posteriors\n",
      "groups = ['C','F','H','P','T']\n",
      "indir = os.path.join(base,'_cage')\n",
      "\n",
      "for i in range(4):\n",
      "    for j in range(i+1,5):\n",
      "        A = groups[i]\n",
      "        B = groups[j]\n",
      "        \n",
      "        outfile=os.path.join(base, 'pvals_{}{}.txt'.format(A, B))\n",
      "\n",
      "        pvals, nsamples = compare_groups(indir, A, B, t0=5000, tend=10000, dt=1)\n",
      "        pvals.to_csv(outfile, sep='\\t')\n",
      "        print 'Processed {} samples; Results saved in {}'.format(nsamples, outfile)"
     ],
     "language": "python",
     "metadata": {},
     "outputs": [
      {
       "output_type": "stream",
       "stream": "stdout",
       "text": [
        "Processed 5001 samples; Results saved in /Users/dimitris/Repositories/benchmarks/cage/2/DGEclust/pvals_CF.txt\n"
       ]
      },
      {
       "output_type": "stream",
       "stream": "stdout",
       "text": [
        "Processed 5001 samples; Results saved in /Users/dimitris/Repositories/benchmarks/cage/2/DGEclust/pvals_CH.txt\n"
       ]
      },
      {
       "output_type": "stream",
       "stream": "stdout",
       "text": [
        "Processed 5001 samples; Results saved in /Users/dimitris/Repositories/benchmarks/cage/2/DGEclust/pvals_CP.txt\n"
       ]
      },
      {
       "output_type": "stream",
       "stream": "stdout",
       "text": [
        "Processed 5001 samples; Results saved in /Users/dimitris/Repositories/benchmarks/cage/2/DGEclust/pvals_CT.txt\n"
       ]
      },
      {
       "output_type": "stream",
       "stream": "stdout",
       "text": [
        "Processed 5001 samples; Results saved in /Users/dimitris/Repositories/benchmarks/cage/2/DGEclust/pvals_FH.txt\n"
       ]
      },
      {
       "output_type": "stream",
       "stream": "stdout",
       "text": [
        "Processed 5001 samples; Results saved in /Users/dimitris/Repositories/benchmarks/cage/2/DGEclust/pvals_FP.txt\n"
       ]
      },
      {
       "output_type": "stream",
       "stream": "stdout",
       "text": [
        "Processed 5001 samples; Results saved in /Users/dimitris/Repositories/benchmarks/cage/2/DGEclust/pvals_FT.txt\n"
       ]
      },
      {
       "output_type": "stream",
       "stream": "stdout",
       "text": [
        "Processed 5001 samples; Results saved in /Users/dimitris/Repositories/benchmarks/cage/2/DGEclust/pvals_HP.txt\n"
       ]
      },
      {
       "output_type": "stream",
       "stream": "stdout",
       "text": [
        "Processed 5001 samples; Results saved in /Users/dimitris/Repositories/benchmarks/cage/2/DGEclust/pvals_HT.txt\n"
       ]
      },
      {
       "output_type": "stream",
       "stream": "stdout",
       "text": [
        "Processed 5001 samples; Results saved in /Users/dimitris/Repositories/benchmarks/cage/2/DGEclust/pvals_PT.txt\n"
       ]
      }
     ],
     "prompt_number": 3
    },
    {
     "cell_type": "code",
     "collapsed": false,
     "input": [
      "simvec, _ = compute_similarity_vector('/Users/dimitris/Repositories/benchmarks/cage/2/DGEclust/_cage/', t0=5000, tend=10000, dt=1)"
     ],
     "language": "python",
     "metadata": {},
     "outputs": [],
     "prompt_number": 5
    },
    {
     "cell_type": "code",
     "collapsed": false,
     "input": [
      "np.savetxt('/Users/dimitris/Repositories/benchmarks/cage/2/DGEclust/simvec_groups.txt', simvec)"
     ],
     "language": "python",
     "metadata": {},
     "outputs": [],
     "prompt_number": 6
    },
    {
     "cell_type": "code",
     "collapsed": false,
     "input": [
      "base = '/Users/dimitris/Repositories/benchmarks/cage/2/DGEclust/'\n",
      "FDR = 0.1\n",
      "ngenes = 100\n",
      "\n",
      "infile=os.path.join(base, 'pvals_{}{}.txt'.format('C', 'P'))\n",
      "idxs = pd.read_table(infile,index_col=0).FDR.values < FDR\n",
      "# ii = np.argsort(pd.read_table(infile,index_col=0).FDR.values)\n",
      "# idxs = np.zeros(ii.shape, dtype='bool')\n",
      "# idxs[ii[:ngenes]] = True\n",
      "idxs.sum()\n",
      "\n",
      "## compute posteriors\n",
      "# groups = ['C','F','H','P','T']\n",
      "\n",
      "# idxs = []\n",
      "# for i in range(4):\n",
      "#     for j in range(i+1,5):\n",
      "#         A = groups[i]\n",
      "#         B = groups[j]\n",
      "        \n",
      "#         infile=os.path.join(base, 'pvals_{}{}.txt'.format(A, B))\n",
      "\n",
      "#         idxs.append(pd.read_table(infile,index_col=0).FDR.values < FDR)\n",
      "        \n",
      "# idxs = np.any(np.asarray(idxs), 0)\n",
      "\n",
      "# idxs.sum()"
     ],
     "language": "python",
     "metadata": {},
     "outputs": [
      {
       "metadata": {},
       "output_type": "pyout",
       "prompt_number": 18,
       "text": [
        "590"
       ]
      }
     ],
     "prompt_number": 18
    },
    {
     "cell_type": "code",
     "collapsed": false,
     "input": [
      "simvec, _ = compute_similarity_vector('/Users/dimitris/Repositories/benchmarks/cage/2/DGEclust/_cage/', t0=5000, tend=10000, dt=1, \n",
      "                                      compare_genes=True, inc=idxs)"
     ],
     "language": "python",
     "metadata": {},
     "outputs": [],
     "prompt_number": 19
    },
    {
     "cell_type": "code",
     "collapsed": false,
     "input": [
      "np.savetxt('/Users/dimitris/Repositories/benchmarks/cage/2/DGEclust/simvec_genes_CP.txt',simvec)"
     ],
     "language": "python",
     "metadata": {},
     "outputs": [],
     "prompt_number": 20
    },
    {
     "cell_type": "code",
     "collapsed": false,
     "input": [],
     "language": "python",
     "metadata": {},
     "outputs": []
    }
   ],
   "metadata": {}
  }
 ]
}