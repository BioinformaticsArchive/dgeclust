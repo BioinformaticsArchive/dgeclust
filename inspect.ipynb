{
 "metadata": {
  "name": "",
  "signature": "sha256:9a7e7d2c784f7f1a46160c13bbf7bf6dd2c92d751e8e201d794bc9b552a22dff"
 },
 "nbformat": 3,
 "nbformat_minor": 0,
 "worksheets": [
  {
   "cells": [
    {
     "cell_type": "code",
     "collapsed": false,
     "input": [
      "from __future__ import division\n",
      "\n",
      "%load_ext autoreload\n",
      "%autoreload 2\n",
      "%matplotlib inline\n",
      "%load_ext memory_profiler\n",
      "\n",
      "import os\n",
      "import pickle as pkl\n",
      "\n",
      "import numpy as np\n",
      "import numpy.random as rn\n",
      "import scipy.stats as st\n",
      "import scipy.special as sp\n",
      "import pandas as pd\n",
      "import matplotlib.pylab as pl\n",
      "import sklearn.metrics as metrics\n",
      "\n",
      "from dgeclust import CountData, SimulationManager\n",
      "from dgeclust.postprocessing import compare_groups\n",
      "from dgeclust.models.nbinom import NBinomModel"
     ],
     "language": "python",
     "metadata": {},
     "outputs": [],
     "prompt_number": 1
    },
    {
     "cell_type": "code",
     "collapsed": false,
     "input": [
      "# counts = pd.read_table('/Users/dimitris/Repositories/benchmarks/gilad/gilad_count_table_filt.txt', index_col=0)\n",
      "# data = CountData(counts, groups=['A', 'A', 'A', 'B', 'B', 'B'])\n",
      "# model = NBinomModel(data)\n",
      "# model= NBinomModel.load('_clust')\n",
      "# SimulationManager().new(data, model, bg=True)\n",
      "\n",
      "# counts = pd.read_table('/Users/dimitris/Desktop/data/neural/NeuralStemCellData_filt.txt', index_col=0)\n",
      "# data = CountData(counts, groups=['A','A','A','A','B','B'])\n",
      "# model = NBinomModel(data)\n",
      "# simman.new(data, model, outdir='_clust/', bg=True)\n",
      "\n",
      "# counts = pd.read_table('/Users/dimitris/Repositories/benchmarks/set0a/data/simdata1.txt', index_col=0)\n",
      "# data = CountData(counts[['sample'+str(i) for i in [1,2,9,10]]], groups=list('A'*2 + 'B'*2))\n",
      "# model = NBinomModel(data)\n",
      "# simman.new(data, model, outdir='_clust/', bg=True)\n",
      "\n",
      "counts = pd.read_table('/Users/dimitris/Repositories/benchmarks/set1/data/simdata1.txt', index_col=0)\n",
      "data = CountData(counts, groups=list('A'*8 + 'B'*8))\n",
      "model = NBinomModel(data)\n",
      "SimulationManager().new(data, model, bg=True)\n",
      "\n",
      "# counts = pd.read_table('/Users/dimitris/Repositories/matrix/set1/data/simdata1.txt', index_col=0)\n",
      "# data = CountData(counts[['sample'+str(i) for i in np.r_[1,2,11,12,21,22]]],groups=list('A'*2 + 'B'*2 + 'C'*2))\n",
      "# model = NBinomModel(data)\n",
      "# SimulationManager().new(data, model, outdir='_clust/', bg=True)\n",
      "\n",
      "# counts = pd.read_table('/Users/dimitris/Repositories/matrix/set1/data/simdata1.txt', index_col=0)\n",
      "# data = CountData(counts[['sample1','sample2','sample11','sample12','sample21','sample22','sample31','sample32']], \n",
      "#                  groups=['A','A','B','B','C','C','D','D'])\n",
      "# model = NBinomModel(data)\n",
      "# simman.new(data, model, outdir='_clust/', bg=True)\n",
      "\n",
      "# counts = pd.read_table('/Users/dimitris/Repositories/benchmarks/set0a/data/simdata1.txt', index_col=0)\n",
      "# data = CountData(counts[['sample1','sample2','sample3','sample4','sample9','sample10','sample11','sample12']], \n",
      "#                  groups=['A','A','A','A','B','B','B','B'])\n",
      "# model = NBinomModel(data)\n",
      "# simman.new(data, model, outdir='_clust/', bg=True)\n",
      "\n",
      "# counts = pd.read_table('/Users/dimitris/Desktop/benchmarks/data/cage/counts_table.txt', index_col=0)\n",
      "# data = CountData(counts[['C1','F1','H1','P1','T1']])\n",
      "# data = CountData(counts, groups=list(np.repeat(['C', 'F', 'H', 'P', 'T'], 5)))\n",
      "# data = CountData(counts[['C1', 'C2', 'F1', 'F2', 'H1', 'H2', 'P1', 'P2', 'T1', 'T2']], groups=list(np.repeat(['C', 'F', 'H', 'P', 'T'], 2)))\n",
      "# data = CountData(counts[['C1', 'F1']])\n",
      "# data = CountData(counts[['C1', 'C2', 'F1', 'F2']], groups=['C', 'C', 'F', 'F'])\n",
      "# data = CountData(counts[['C1', 'C2', 'C3', 'C4', 'C5', 'F1', 'F2', 'F3', 'F4', 'F5']], groups=list(np.repeat(['C', 'F'], 5)))\n",
      "# model = NBinomModel(data)\n",
      "# SimulationManager().new(data, model, outdir='_cage/', bg=True)"
     ],
     "language": "python",
     "metadata": {},
     "outputs": [
      {
       "output_type": "stream",
       "stream": "stderr",
       "text": [
        "Output directory is _clust\n"
       ]
      },
      {
       "output_type": "stream",
       "stream": "stdout",
       "text": [
        "Starting job # 0 in a separate thread.\n"
       ]
      },
      {
       "output_type": "stream",
       "stream": "stderr",
       "text": [
        "dgeclust/models/nbinom.py:211: RuntimeWarning: overflow encountered in exp\n",
        "  idxs = (loglik_ >= loglik) | (rn.rand(self.nfeatures) < np.exp(loglik_ - loglik))\n",
        "dgeclust/models/nbinom.py:255: RuntimeWarning: overflow encountered in exp\n",
        "  idxs = (loglik_ >= loglik) | (rn.rand(self.lw.size) < np.exp(loglik_ - loglik))\n",
        "dgeclust/stats.py:250: RuntimeWarning: divide by zero encountered in log\n",
        "  lcp = np.log(1-v).cumsum()\n"
       ]
      }
     ],
     "prompt_number": 2
    },
    {
     "cell_type": "code",
     "collapsed": false,
     "input": [
      "# NBinomModel2.plot_progress('/Users/dimitris/Repositories/matrix/set1/3/8/_clust1/', pl.figure(figsize=(10,10)))\n",
      "# NBinomModel.plot_progress('/Users/dimitris/Repositories/benchmarks/set0c/8/2/_clust3/', pl.figure(figsize=(10,10)))\n",
      "model = NBinomModel.load('_clust/')\n",
      "NBinomModel.plot_progress('_clust/', pl.figure(figsize=(10,10)))\n",
      "pl.subplot(3,2,1); pl.ylim([0, 100])\n",
      "\n",
      "beta = model.beta[model.z]\n",
      "beta = beta[(beta < 0) | (beta > 0)]\n",
      "print np.sum(beta > 0), np.sum(beta < 0)\n",
      "print model.beta[model.iact]"
     ],
     "language": "python",
     "metadata": {},
     "outputs": [
      {
       "output_type": "stream",
       "stream": "stdout",
       "text": [
        "669 0\n",
        "[ 0.          0.6270876   0.92079201  1.70361388  1.27173691]\n"
       ]
      },
      {
       "metadata": {},
       "output_type": "display_data",
       "png": "[encoded data removed]",
       "text": [
        "<matplotlib.figure.Figure at 0x1175f9dd0>"
       ]
      }
     ],
     "prompt_number": 21
    },
    {
     "cell_type": "code",
     "collapsed": false,
     "input": [
      "# model = NBinomModelAlt3.load('/Users/dimitris/Repositories/benchmarks/set1/4/2/_clust1/')\n",
      "model.plot_fitted_model('sample1', data, nbins=100, fig=pl.figure(figsize=(10,7)));"
     ],
     "language": "python",
     "metadata": {},
     "outputs": [
      {
       "metadata": {},
       "output_type": "display_data",
       "png": "[encoded data removed]",
       "text": [
        "<matplotlib.figure.Figure at 0x115814210>"
       ]
      }
     ],
     "prompt_number": 18
    },
    {
     "cell_type": "code",
     "collapsed": false,
     "input": [
      "model = NBinomModel.load('_clust/')\n",
      "\n",
      "var = np.exp(model.log_mu) + np.exp(model.log_phi) * np.exp(model.log_mu)**2\n",
      "\n",
      "pl.figure()\n",
      "pl.plot(model.log_mu, np.log(var), '.k', markersize=0.4);\n",
      "\n",
      "pl.figure()\n",
      "pl.hist(model.log_mu, 100, normed=True, histtype='stepfilled'); \n",
      "pl.hist(model.log_phi.ravel(), 100, normed=True, histtype='stepfilled');\n",
      "\n",
      "x1 = np.linspace(model.log_phi.min(), model.log_phi.max(), 100)\n",
      "y1 = st.norm.pdf(x1, model.mu, 1/np.sqrt(model.tau))\n",
      "pl.plot(x1, y1, 'r');"
     ],
     "language": "python",
     "metadata": {},
     "outputs": [
      {
       "ename": "IOError",
       "evalue": "[Errno 2] No such file or directory: '_clust/state.pkl'",
       "output_type": "pyerr",
       "traceback": [
        "\u001b[0;31m---------------------------------------------------------------------------\u001b[0m\n\u001b[0;31mIOError\u001b[0m                                   Traceback (most recent call last)",
        "\u001b[0;32m<ipython-input-49-40fdb5295b4f>\u001b[0m in \u001b[0;36m<module>\u001b[0;34m()\u001b[0m\n\u001b[0;32m----> 1\u001b[0;31m \u001b[0mmodel\u001b[0m \u001b[0;34m=\u001b[0m \u001b[0mNBinomModel\u001b[0m\u001b[0;34m.\u001b[0m\u001b[0mload\u001b[0m\u001b[0;34m(\u001b[0m\u001b[0;34m'_clust/'\u001b[0m\u001b[0;34m)\u001b[0m\u001b[0;34m\u001b[0m\u001b[0m\n\u001b[0m\u001b[1;32m      2\u001b[0m \u001b[0;34m\u001b[0m\u001b[0m\n\u001b[1;32m      3\u001b[0m \u001b[0mvar\u001b[0m \u001b[0;34m=\u001b[0m \u001b[0mnp\u001b[0m\u001b[0;34m.\u001b[0m\u001b[0mexp\u001b[0m\u001b[0;34m(\u001b[0m\u001b[0mmodel\u001b[0m\u001b[0;34m.\u001b[0m\u001b[0mlog_mu\u001b[0m\u001b[0;34m)\u001b[0m \u001b[0;34m+\u001b[0m \u001b[0mnp\u001b[0m\u001b[0;34m.\u001b[0m\u001b[0mexp\u001b[0m\u001b[0;34m(\u001b[0m\u001b[0mmodel\u001b[0m\u001b[0;34m.\u001b[0m\u001b[0mlog_phi\u001b[0m\u001b[0;34m)\u001b[0m \u001b[0;34m*\u001b[0m \u001b[0mnp\u001b[0m\u001b[0;34m.\u001b[0m\u001b[0mexp\u001b[0m\u001b[0;34m(\u001b[0m\u001b[0mmodel\u001b[0m\u001b[0;34m.\u001b[0m\u001b[0mlog_mu\u001b[0m\u001b[0;34m)\u001b[0m\u001b[0;34m**\u001b[0m\u001b[0;36m2\u001b[0m\u001b[0;34m\u001b[0m\u001b[0m\n\u001b[1;32m      4\u001b[0m \u001b[0;34m\u001b[0m\u001b[0m\n\u001b[1;32m      5\u001b[0m \u001b[0mpl\u001b[0m\u001b[0;34m.\u001b[0m\u001b[0mfigure\u001b[0m\u001b[0;34m(\u001b[0m\u001b[0;34m)\u001b[0m\u001b[0;34m\u001b[0m\u001b[0m\n",
        "\u001b[0;32m/Users/dimitris/Repositories/dgeclust/dgeclust/models/nbinom.py\u001b[0m in \u001b[0;36mload\u001b[0;34m(indir)\u001b[0m\n\u001b[1;32m    316\u001b[0m         \u001b[0;34m\"\"\"Initializes model state from file\"\"\"\u001b[0m\u001b[0;34m\u001b[0m\u001b[0m\n\u001b[1;32m    317\u001b[0m \u001b[0;34m\u001b[0m\u001b[0m\n\u001b[0;32m--> 318\u001b[0;31m         \u001b[0;32mwith\u001b[0m \u001b[0mopen\u001b[0m\u001b[0;34m(\u001b[0m\u001b[0mos\u001b[0m\u001b[0;34m.\u001b[0m\u001b[0mpath\u001b[0m\u001b[0;34m.\u001b[0m\u001b[0mjoin\u001b[0m\u001b[0;34m(\u001b[0m\u001b[0mindir\u001b[0m\u001b[0;34m,\u001b[0m \u001b[0mcfg\u001b[0m\u001b[0;34m.\u001b[0m\u001b[0mfnames\u001b[0m\u001b[0;34m[\u001b[0m\u001b[0;34m'state'\u001b[0m\u001b[0;34m]\u001b[0m\u001b[0;34m)\u001b[0m\u001b[0;34m,\u001b[0m \u001b[0;34m'rb'\u001b[0m\u001b[0;34m)\u001b[0m \u001b[0;32mas\u001b[0m \u001b[0mf\u001b[0m\u001b[0;34m:\u001b[0m\u001b[0;34m\u001b[0m\u001b[0m\n\u001b[0m\u001b[1;32m    319\u001b[0m             \u001b[0mstate\u001b[0m \u001b[0;34m=\u001b[0m \u001b[0mpkl\u001b[0m\u001b[0;34m.\u001b[0m\u001b[0mload\u001b[0m\u001b[0;34m(\u001b[0m\u001b[0mf\u001b[0m\u001b[0;34m)\u001b[0m\u001b[0;34m\u001b[0m\u001b[0m\n\u001b[1;32m    320\u001b[0m \u001b[0;34m\u001b[0m\u001b[0m\n",
        "\u001b[0;31mIOError\u001b[0m: [Errno 2] No such file or directory: '_clust/state.pkl'"
       ]
      }
     ],
     "prompt_number": 49
    },
    {
     "cell_type": "code",
     "collapsed": false,
     "input": [
      "res_DGEclust, _ = compare_groups('_cage/', 'C', 'F', t0=2000, tend=10000, dt=1)"
     ],
     "language": "python",
     "metadata": {},
     "outputs": [],
     "prompt_number": 25
    },
    {
     "cell_type": "code",
     "collapsed": false,
     "input": [
      "ytrues = np.loadtxt('/Users/dimitris/Desktop/benchmarks/data/cage/ytrues_CF.txt')\n",
      "# ytrues[ytrues==2] = 0\n",
      "idxs = ytrues != 2\n",
      "ytrues = ytrues[idxs]\n",
      "\n",
      "res_DGEclust = pd.read_table('/Users/dimitris/Repositories/benchmarks/cage/5/DGEclust/pvals_CF.txt')[idxs] \n",
      "# res_DESeq = pd.read_table('/Users/dimitris/Repositories/benchmarks/cage/5/DESeq/pvals_CF.txt')[idxs]\n",
      "res_DESeq2 = pd.read_table('/Users/dimitris/Repositories/benchmarks/cage/5/DESeq2/pvals_CF.txt')[idxs]\n",
      "res_edgeR = pd.read_table('/Users/dimitris/Repositories/benchmarks/cage/5/edgeR/pvals_CF.txt')[idxs]\n",
      "# res_baySeq = pd.read_table('/Users/dimitris/Repositories/benchmarks/cage/5/baySeq/pvals_CF.txt')[idxs]\n",
      "\n",
      "# res_DESeq.pval[np.isnan(res_DESeq.pval)] = 1\n",
      "# fpr, tpr, _ = metrics.roc_curve(ytrues, 1-res_DESeq.pval)\n",
      "# pl.plot(fpr, tpr, color='blue');\n",
      "\n",
      "res_DESeq2.pvalue[np.isnan(res_DESeq2.pvalue)] = 1\n",
      "fpr, tpr, _ = metrics.roc_curve(ytrues, 1-res_DESeq2.pvalue)\n",
      "pl.plot(fpr, tpr, color='green');\n",
      "\n",
      "fpr, tpr, _ = metrics.roc_curve(ytrues, 1-res_edgeR.PValue)\n",
      "pl.plot(fpr, tpr, color='brown');\n",
      "\n",
      "# fpr, tpr, _ = metrics.roc_curve(ytrues, 1-res_baySeq.Likelihood)\n",
      "# pl.plot(fpr, tpr, color='cyan');\n",
      "\n",
      "fpr, tpr, _ = metrics.roc_curve(ytrues, 1-res_DGEclust.FDR)\n",
      "pl.plot(fpr, tpr, color='red');\n",
      "\n",
      "pl.xlim([0,0.2])\n",
      "pl.ylim([0.7, 1.01]);"
     ],
     "language": "python",
     "metadata": {},
     "outputs": [
      {
       "metadata": {},
       "output_type": "display_data",
       "png": "[encoded data removed]",
       "text": [
        "<matplotlib.figure.Figure at 0x10219ed10>"
       ]
      }
     ],
     "prompt_number": 29
    },
    {
     "cell_type": "code",
     "collapsed": false,
     "input": [
      "res_DGEclust.to_csv('/Users/dimitris/Repositories/benchmarks/cage/5/DGEclust/pvals_CF.txt', sep='\\t')"
     ],
     "language": "python",
     "metadata": {},
     "outputs": [],
     "prompt_number": 31
    },
    {
     "cell_type": "code",
     "collapsed": false,
     "input": [
      "## Filtering\n",
      "\n",
      "counts = pd.read_table('/Users/dimitris/Repositories/benchmarks/gilad/gilad_count_table.txt', index_col=0)\n",
      "rs = counts.sum(1)\n",
      "# idxs = rs > np.percentile(rs, 40)\n",
      "idxs = rs > 0\n",
      "counts_filt = counts[idxs]\n",
      "counts_filt.to_csv('/Users/dimitris/Repositories/benchmarks/gilad/gilad_count_table_filt.txt', sep='\\t')\n",
      "\n",
      "pl.hist(np.log(counts_filt.icol(0)+0.5), 100);\n",
      "counts_filt.shape"
     ],
     "language": "python",
     "metadata": {},
     "outputs": [
      {
       "metadata": {},
       "output_type": "pyout",
       "prompt_number": 51,
       "text": [
        "(10525, 6)"
       ]
      },
      {
       "metadata": {},
       "output_type": "display_data",
       "png": "[encoded data removed]",
       "text": [
        "<matplotlib.figure.Figure at 0x10a9cc290>"
       ]
      }
     ],
     "prompt_number": 51
    },
    {
     "cell_type": "code",
     "collapsed": false,
     "input": [
      "## Calculate true values \n",
      "\n",
      "# 'C', 'F', 'H', 'P', 'T'\n",
      "fin = '/Users/dimitris/Desktop/benchmarks/data/cage/counts_table.txt'\n",
      "fout = '/Users/dimitris/Desktop/benchmarks/data/cage/ytrues_PT.txt'\n",
      "\n",
      "group1 = [15, 16, 17, 18, 19]\n",
      "group2 = [20, 21, 22, 23, 24]\n",
      "\n",
      "counts = pd.read_table(fin, index_col=0)\n",
      "counts_norm = CountData(counts).counts_norm.values\n",
      "counts_norm[counts_norm==0] = 1\n",
      "\n",
      "group1 = counts_norm[:, group1].mean(1)\n",
      "group2 = counts_norm[:, group2].mean(1)\n",
      "\n",
      "ratios = np.log2(group2) - np.log2(group1)\n",
      "\n",
      "thr1 = 2\n",
      "thr2 = 1/2\n",
      "de = np.abs(ratios) > thr1\n",
      "up = ratios > thr1\n",
      "down = ratios < -thr1\n",
      "ee = np.abs(ratios) < thr2\n",
      "na = np.logical_and(~de, ~ee)\n",
      "\n",
      "de.sum(), (up.sum(), down.sum()), ee.sum(), na.sum(), de.sum() / de.size * 100\n",
      "\n",
      "ytrues = np.zeros(de.size, dtype='int')\n",
      "ytrues[de] = 1\n",
      "ytrues[na] = 2\n",
      "\n",
      "# np.savetxt(fout, ytrues, fmt='%d')"
     ],
     "language": "python",
     "metadata": {},
     "outputs": [],
     "prompt_number": 70
    },
    {
     "cell_type": "code",
     "collapsed": false,
     "input": [
      "## Memory usage and computation time\n",
      "\n",
      "counts = pd.read_table('/Users/dimitris/Desktop/benchmarks/data/cage/counts_table.txt', index_col=0)\n",
      "def test(ngenes, nsamples):\n",
      "    data = CountData(counts[:ngenes].icol(np.r_[:nsamples]))\n",
      "    model = NBinomModel(data)\n",
      "    !rm -rf _clust\n",
      "    SimulationManager().new(data, model, niters=100)\n",
      "    \n",
      "# ngenes = [1000, 2000, 4000, 8000, 16000]\n",
      "nsamples = [2, 4, 8, 16]\n",
      "\n",
      "for ng in nsamples: \n",
      "    %timeit test(1000, ng)"
     ],
     "language": "python",
     "metadata": {},
     "outputs": [
      {
       "output_type": "stream",
       "stream": "stderr",
       "text": [
        "Output directory is _clust\n"
       ]
      },
      {
       "output_type": "stream",
       "stream": "stderr",
       "text": [
        "Output directory is _clust\n"
       ]
      },
      {
       "output_type": "stream",
       "stream": "stderr",
       "text": [
        "Output directory is _clust\n"
       ]
      },
      {
       "output_type": "stream",
       "stream": "stderr",
       "text": [
        "Output directory is _clust\n"
       ]
      },
      {
       "output_type": "stream",
       "stream": "stdout",
       "text": [
        "1 loops, best of 3: 2.18 s per loop\n"
       ]
      },
      {
       "output_type": "stream",
       "stream": "stderr",
       "text": [
        "Output directory is _clust\n"
       ]
      },
      {
       "output_type": "stream",
       "stream": "stderr",
       "text": [
        "Output directory is _clust\n"
       ]
      },
      {
       "output_type": "stream",
       "stream": "stderr",
       "text": [
        "Output directory is _clust\n"
       ]
      },
      {
       "output_type": "stream",
       "stream": "stderr",
       "text": [
        "Output directory is _clust\n"
       ]
      },
      {
       "output_type": "stream",
       "stream": "stdout",
       "text": [
        "1 loops, best of 3: 2.89 s per loop\n"
       ]
      },
      {
       "output_type": "stream",
       "stream": "stderr",
       "text": [
        "Output directory is _clust\n"
       ]
      },
      {
       "output_type": "stream",
       "stream": "stderr",
       "text": [
        "Output directory is _clust\n"
       ]
      },
      {
       "output_type": "stream",
       "stream": "stderr",
       "text": [
        "Output directory is _clust\n"
       ]
      },
      {
       "output_type": "stream",
       "stream": "stderr",
       "text": [
        "Output directory is _clust\n"
       ]
      },
      {
       "output_type": "stream",
       "stream": "stdout",
       "text": [
        "1 loops, best of 3: 4.48 s per loop\n"
       ]
      },
      {
       "output_type": "stream",
       "stream": "stderr",
       "text": [
        "Output directory is _clust\n"
       ]
      },
      {
       "output_type": "stream",
       "stream": "stderr",
       "text": [
        "Output directory is _clust\n"
       ]
      },
      {
       "output_type": "stream",
       "stream": "stderr",
       "text": [
        "Output directory is _clust\n"
       ]
      },
      {
       "output_type": "stream",
       "stream": "stderr",
       "text": [
        "Output directory is _clust\n"
       ]
      },
      {
       "output_type": "stream",
       "stream": "stdout",
       "text": [
        "1 loops, best of 3: 8.31 s per loop\n"
       ]
      }
     ],
     "prompt_number": 2
    },
    {
     "cell_type": "code",
     "collapsed": false,
     "input": [
      "log2(x) = 0.5 => x = 2^0.5"
     ],
     "language": "python",
     "metadata": {},
     "outputs": [
      {
       "ename": "SyntaxError",
       "evalue": "invalid syntax (<ipython-input-3-2d6048d3214d>, line 1)",
       "output_type": "pyerr",
       "traceback": [
        "\u001b[0;36m  File \u001b[0;32m\"<ipython-input-3-2d6048d3214d>\"\u001b[0;36m, line \u001b[0;32m1\u001b[0m\n\u001b[0;31m    log2(x) = 2 => x = 2^2\u001b[0m\n\u001b[0m                 ^\u001b[0m\n\u001b[0;31mSyntaxError\u001b[0m\u001b[0;31m:\u001b[0m invalid syntax\n"
       ]
      }
     ],
     "prompt_number": 3
    },
    {
     "cell_type": "code",
     "collapsed": false,
     "input": [
      "np.log(1.5)"
     ],
     "language": "python",
     "metadata": {},
     "outputs": [
      {
       "metadata": {},
       "output_type": "pyout",
       "prompt_number": 7,
       "text": [
        "0.3465735902799727"
       ]
      }
     ],
     "prompt_number": 7
    },
    {
     "cell_type": "code",
     "collapsed": false,
     "input": [
      "2**0.5"
     ],
     "language": "python",
     "metadata": {},
     "outputs": [
      {
       "metadata": {},
       "output_type": "pyout",
       "prompt_number": 8,
       "text": [
        "1.4142135623730951"
       ]
      }
     ],
     "prompt_number": 8
    },
    {
     "cell_type": "code",
     "collapsed": false,
     "input": [
      "df = pd.DataFrame(rn.rand(4,10))\n",
      "df['groups'] = ['A','A','B','B']\n",
      "grouped = df.groupby('groups')"
     ],
     "language": "python",
     "metadata": {},
     "outputs": [],
     "prompt_number": 61
    },
    {
     "cell_type": "code",
     "collapsed": false,
     "input": [],
     "language": "python",
     "metadata": {},
     "outputs": [
      {
       "ename": "AttributeError",
       "evalue": "Cannot access attribute 'T' of 'DataFrameGroupBy' objects, try using the 'apply' method",
       "output_type": "pyerr",
       "traceback": [
        "\u001b[0;31m---------------------------------------------------------------------------\u001b[0m\n\u001b[0;31mAttributeError\u001b[0m                            Traceback (most recent call last)",
        "\u001b[0;32m<ipython-input-66-7f3e8a1a8579>\u001b[0m in \u001b[0;36m<module>\u001b[0;34m()\u001b[0m\n\u001b[0;32m----> 1\u001b[0;31m \u001b[0mgrouped\u001b[0m\u001b[0;34m.\u001b[0m\u001b[0mT\u001b[0m\u001b[0;34m\u001b[0m\u001b[0m\n\u001b[0m",
        "\u001b[0;32m/opt/local/Library/Frameworks/Python.framework/Versions/2.7/lib/python2.7/site-packages/pandas/core/groupby.pyc\u001b[0m in \u001b[0;36m__getattr__\u001b[0;34m(self, attr)\u001b[0m\n\u001b[1;32m    504\u001b[0m             \u001b[0;32mreturn\u001b[0m \u001b[0mself\u001b[0m\u001b[0;34m[\u001b[0m\u001b[0mattr\u001b[0m\u001b[0;34m]\u001b[0m\u001b[0;34m\u001b[0m\u001b[0m\n\u001b[1;32m    505\u001b[0m         \u001b[0;32mif\u001b[0m \u001b[0mhasattr\u001b[0m\u001b[0;34m(\u001b[0m\u001b[0mself\u001b[0m\u001b[0;34m.\u001b[0m\u001b[0mobj\u001b[0m\u001b[0;34m,\u001b[0m \u001b[0mattr\u001b[0m\u001b[0;34m)\u001b[0m\u001b[0;34m:\u001b[0m\u001b[0;34m\u001b[0m\u001b[0m\n\u001b[0;32m--> 506\u001b[0;31m             \u001b[0;32mreturn\u001b[0m \u001b[0mself\u001b[0m\u001b[0;34m.\u001b[0m\u001b[0m_make_wrapper\u001b[0m\u001b[0;34m(\u001b[0m\u001b[0mattr\u001b[0m\u001b[0;34m)\u001b[0m\u001b[0;34m\u001b[0m\u001b[0m\n\u001b[0m\u001b[1;32m    507\u001b[0m \u001b[0;34m\u001b[0m\u001b[0m\n\u001b[1;32m    508\u001b[0m         raise AttributeError(\"%r object has no attribute %r\" %\n",
        "\u001b[0;32m/opt/local/Library/Frameworks/Python.framework/Versions/2.7/lib/python2.7/site-packages/pandas/core/groupby.pyc\u001b[0m in \u001b[0;36m_make_wrapper\u001b[0;34m(self, name)\u001b[0m\n\u001b[1;32m    519\u001b[0m                    \"using the 'apply' method\".format(kind, name,\n\u001b[1;32m    520\u001b[0m                                                      type(self).__name__))\n\u001b[0;32m--> 521\u001b[0;31m             \u001b[0;32mraise\u001b[0m \u001b[0mAttributeError\u001b[0m\u001b[0;34m(\u001b[0m\u001b[0mmsg\u001b[0m\u001b[0;34m)\u001b[0m\u001b[0;34m\u001b[0m\u001b[0m\n\u001b[0m\u001b[1;32m    522\u001b[0m \u001b[0;34m\u001b[0m\u001b[0m\n\u001b[1;32m    523\u001b[0m         \u001b[0;31m# need to setup the selection\u001b[0m\u001b[0;34m\u001b[0m\u001b[0;34m\u001b[0m\u001b[0m\n",
        "\u001b[0;31mAttributeError\u001b[0m: Cannot access attribute 'T' of 'DataFrameGroupBy' objects, try using the 'apply' method"
       ]
      }
     ],
     "prompt_number": 66
    },
    {
     "cell_type": "code",
     "collapsed": false,
     "input": [
      "grouped.groups"
     ],
     "language": "python",
     "metadata": {},
     "outputs": [
      {
       "metadata": {},
       "output_type": "pyout",
       "prompt_number": 37,
       "text": [
        "{}"
       ]
      }
     ],
     "prompt_number": 37
    },
    {
     "cell_type": "code",
     "collapsed": false,
     "input": [],
     "language": "python",
     "metadata": {},
     "outputs": []
    }
   ],
   "metadata": {}
  }
 ]
}