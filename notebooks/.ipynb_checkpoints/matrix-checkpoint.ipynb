{
 "metadata": {
  "name": "",
  "signature": "sha256:a520f23dc1a54c8de64f5ef7a9e4bb60bb1bc93632fca4386d1e8d1179a9ef4f"
 },
 "nbformat": 3,
 "nbformat_minor": 0,
 "worksheets": [
  {
   "cells": [
    {
     "cell_type": "code",
     "collapsed": false,
     "input": [
      "%load_ext autoreload\n",
      "%autoreload 2\n",
      "\n",
      "from __future__ import division\n",
      "\n",
      "import os\n",
      "import string\n",
      "import pickle as pkl\n",
      "import numpy as np\n",
      "import pylab as pl\n",
      "import pandas as pd\n",
      "import sklearn.metrics as metrics\n",
      "\n",
      "%matplotlib inline"
     ],
     "language": "python",
     "metadata": {},
     "outputs": [],
     "prompt_number": 1
    },
    {
     "cell_type": "code",
     "collapsed": false,
     "input": [
      "fig_width_max = 3.34645669 * 2\n",
      "fig_height_max = 8.85826772\n",
      "golden_ratio = 1.61803398875\n",
      "\n",
      "pl.rcParams['axes.linewidth'] = .5\n",
      "pl.rcParams['lines.linewidth'] = .5\n",
      "pl.rcParams['patch.linewidth'] = .5\n",
      "\n",
      "pl.rcParams['legend.numpoints'] = 1\n",
      "\n",
      "pl.rcParams['font.size'] = 10\n",
      "pl.rcParams['axes.titlesize'] = 12\n",
      "pl.rcParams['axes.labelsize'] = 10\n",
      "pl.rcParams['xtick.labelsize'] = 8\n",
      "pl.rcParams['ytick.labelsize'] = 8\n",
      "pl.rcParams['legend.fontsize'] = 10"
     ],
     "language": "python",
     "metadata": {},
     "outputs": [],
     "prompt_number": 2
    },
    {
     "cell_type": "code",
     "collapsed": false,
     "input": [
      "## input\n",
      "def plot_matrix(FDR, base, reps, groups, samples):\n",
      "    ## thresholds\n",
      "    thr = [0.01, 0.05, 0.1]\n",
      "    \n",
      "    ## loop over groups and replicas\n",
      "    mats = []\n",
      "    for sample in samples:\n",
      "        ## ytrues\n",
      "        inds = pkl.load(open('{}/data/simdata{}.pkl'.format(base,sample), 'rb'))['c']\n",
      "        ytrues = inds[:, 0] != inds[:, 1]\n",
      "        mat = []\n",
      "        for rep in reps:  \n",
      "            row = []\n",
      "            for group in groups:\n",
      "                ## compute metrics\n",
      "                ypreds = pd.read_table('{}/{}/{}/pvals{}{}.txt'.format(base, str(rep), str(group), sample, '')).FDR < FDR\n",
      "#                 ypreds = pd.read_table('{}/{}/{}/pvals{}{}.txt'.format(base, str(rep), str(group), sample, '_DESeq2')).padj < FDR\n",
      "                metr = metrics.matthews_corrcoef(ytrues, ypreds.values.ravel())\n",
      "                \n",
      "#                 if rep == 3 and group in [2,3,4,5,8]:\n",
      "#                     yscores = 1 - pd.read_table('{}/{}/{}/pvals{}{}.txt'.format(base, str(rep), str(group), sample, '')).FDR\n",
      "#                 else:    \n",
      "#                     yscores = 1 - pd.read_table('{}/{}/{}/pvals{}{}.txt'.format(base, str(rep), str(group), sample, '_DESeq2')).pvalue\n",
      "#                     yscores[np.isnan(yscores)] = 1\n",
      "#                 metr = metrics.roc_auc_score(ytrues, yscores)\n",
      "                \n",
      "#                 if rep in [3] and group in [2,3,4,5,8]:\n",
      "#                     ypreds = pd.read_table('{}/{}/{}/pvals{}{}.txt'.format(base, str(rep), str(group), sample, '')).FDR < FDR\n",
      "#                 else:\n",
      "#                     ypreds = pd.read_table('{}/{}/{}/pvals{}{}.txt'.format(base, str(rep), str(group), sample, '_DESeq2')).padj < FDR\n",
      "#                 metr = np.sum(np.logical_not(ypreds)[np.logical_not(ytrues)]) / np.sum(np.logical_not(ytrues))\n",
      "#                 [pl.axhline(el, linestyle='--', color='gray') for el in thr]\n",
      "  \n",
      "                row.append(metr)\n",
      "            mat.append(row)\n",
      "        mats.append(mat)\n",
      "\n",
      "    means = np.mean(mats, 0)\n",
      "    errs = np.std(mats, 0)\n",
      "    \n",
      "    ## plot\n",
      "    lines = pl.plot(means.T, '--o')\n",
      "    pl.gca().set_color_cycle(None)\n",
      "    for mu, err in zip(means, errs):\n",
      "        pl.errorbar(range(len(groups)), mu, yerr=err / np.sqrt(len(samples)), fmt='o')\n",
      "    pl.legend(lines[::-1],['{} replicas/group'.format(r) for r in reps[::-1]], loc=1).get_frame().set_alpha(0.8)\n",
      "\n",
      "    pl.gca().set_xticks(range(len(groups)))\n",
      "    pl.gca().set_xticklabels(groups)\n",
      "    pl.xlabel('# of groups')\n",
      "#     pl.ylabel('Area Under ROC Curve')\n",
      "    pl.ylabel('Matthews Correlation Coefficient (MCC)')\n",
      "#     pl.ylabel('true False Discovery Rate')\n",
      "    pl.xlim(pl.xlim() + np.r_[-0.1, 0.1])\n",
      "#     pl.ylim([-0.01, 0.35])\n",
      "#     pl.ylim([0.5, 1])\n",
      "    \n",
      "    ##\n",
      "    return means, errs\n",
      "\n",
      "##\n",
      "pl.figure(figsize=(fig_width_max,fig_width_max))\n",
      "base = '/Users/dimitris/Repositories/matrix/set1/'\n",
      "reps = np.asarray([3])\n",
      "groups = np.asarray([2,3,4,5,8,16,32,64])\n",
      "samples = [1]\n",
      "FDR=0.01\n",
      "means, errs = plot_matrix(FDR, base, reps, groups, samples); pl.title('MCC at a cutoff FDR < {}'.format(FDR))\n",
      "pl.tight_layout()\n",
      "# pl.savefig('matrix_MCC_{}.pdf'.format(FDR))"
     ],
     "language": "python",
     "metadata": {},
     "outputs": [
      {
       "metadata": {},
       "output_type": "display_data",
       "png": "[encoded data removed]",
       "text": [
        "<matplotlib.figure.Figure at 0x116430a10>"
       ]
      }
     ],
     "prompt_number": 29
    },
    {
     "cell_type": "code",
     "collapsed": false,
     "input": [
      "np.argmax(means <= 0.01, 0)"
     ],
     "language": "python",
     "metadata": {},
     "outputs": [
      {
       "metadata": {},
       "output_type": "pyout",
       "prompt_number": 145,
       "text": [
        "array([0, 3, 2, 1, 1])"
       ]
      }
     ],
     "prompt_number": 145
    },
    {
     "cell_type": "code",
     "collapsed": false,
     "input": [
      "np.asarray([reps[np.argmax(means <= thr, 0)] for thr in [0.01, 0.05, 0.1]]).T"
     ],
     "language": "python",
     "metadata": {},
     "outputs": [
      {
       "metadata": {},
       "output_type": "pyout",
       "prompt_number": 233,
       "text": [
        "array([[ 2, 10,  5],\n",
        "       [ 2, 10,  3],\n",
        "       [ 2,  3,  3],\n",
        "       [ 2,  3,  2],\n",
        "       [ 3,  3,  2],\n",
        "       [ 2,  2,  2]])"
       ]
      }
     ],
     "prompt_number": 233
    },
    {
     "cell_type": "code",
     "collapsed": false,
     "input": [
      "' ' .join([letter for letter in letters[:3] for _ in range(4)])"
     ],
     "language": "python",
     "metadata": {},
     "outputs": [
      {
       "ename": "NameError",
       "evalue": "name 'letters' is not defined",
       "output_type": "pyerr",
       "traceback": [
        "\u001b[0;31m---------------------------------------------------------------------------\u001b[0m\n\u001b[0;31mNameError\u001b[0m                                 Traceback (most recent call last)",
        "\u001b[0;32m<ipython-input-11-37c1472fe3b6>\u001b[0m in \u001b[0;36m<module>\u001b[0;34m()\u001b[0m\n\u001b[0;32m----> 1\u001b[0;31m \u001b[0;34m' '\u001b[0m \u001b[0;34m.\u001b[0m\u001b[0mjoin\u001b[0m\u001b[0;34m(\u001b[0m\u001b[0;34m[\u001b[0m\u001b[0mletter\u001b[0m \u001b[0;32mfor\u001b[0m \u001b[0mletter\u001b[0m \u001b[0;32min\u001b[0m \u001b[0mletters\u001b[0m\u001b[0;34m[\u001b[0m\u001b[0;34m:\u001b[0m\u001b[0;36m3\u001b[0m\u001b[0;34m]\u001b[0m \u001b[0;32mfor\u001b[0m \u001b[0m_\u001b[0m \u001b[0;32min\u001b[0m \u001b[0mrange\u001b[0m\u001b[0;34m(\u001b[0m\u001b[0;36m4\u001b[0m\u001b[0;34m)\u001b[0m\u001b[0;34m]\u001b[0m\u001b[0;34m)\u001b[0m\u001b[0;34m\u001b[0m\u001b[0m\n\u001b[0m",
        "\u001b[0;31mNameError\u001b[0m: name 'letters' is not defined"
       ]
      }
     ],
     "prompt_number": 11
    },
    {
     "cell_type": "code",
     "collapsed": false,
     "input": [
      "' '.join([item for item in string.uppercase[:3] for _ in range(4)])"
     ],
     "language": "python",
     "metadata": {},
     "outputs": [
      {
       "metadata": {},
       "output_type": "pyout",
       "prompt_number": 20,
       "text": [
        "'A A A A B B B B C C C C'"
       ]
      }
     ],
     "prompt_number": 20
    },
    {
     "cell_type": "code",
     "collapsed": false,
     "input": [
      "g, r = 3, 4\n",
      "\n",
      "' '.join(['sample' + str(item) for item in range(1,r+1)*g + np.repeat(range(0,g), r)*10])"
     ],
     "language": "python",
     "metadata": {},
     "outputs": [
      {
       "metadata": {},
       "output_type": "pyout",
       "prompt_number": 58,
       "text": [
        "'sample1 sample2 sample3 sample4 sample11 sample12 sample13 sample14 sample21 sample22 sample23 sample24'"
       ]
      }
     ],
     "prompt_number": 58
    },
    {
     "cell_type": "code",
     "collapsed": false,
     "input": [
      "np.repeat(range(0:g)*10, r)"
     ],
     "language": "python",
     "metadata": {},
     "outputs": [
      {
       "ename": "SyntaxError",
       "evalue": "invalid syntax (<ipython-input-37-400d64df0907>, line 1)",
       "output_type": "pyerr",
       "traceback": [
        "\u001b[0;36m  File \u001b[0;32m\"<ipython-input-37-400d64df0907>\"\u001b[0;36m, line \u001b[0;32m1\u001b[0m\n\u001b[0;31m    np.repeat(range(0:g)*10, r)\u001b[0m\n\u001b[0m                     ^\u001b[0m\n\u001b[0;31mSyntaxError\u001b[0m\u001b[0;31m:\u001b[0m invalid syntax\n"
       ]
      }
     ],
     "prompt_number": 37
    },
    {
     "cell_type": "code",
     "collapsed": false,
     "input": [
      "pl.plot(np.random.rand(100))\n",
      "pl.axhline(0.5, linestyle='--', color='red')\n",
      "pl.xlim(pl.xlim() + np.r_[-10, 10])"
     ],
     "language": "python",
     "metadata": {},
     "outputs": [
      {
       "metadata": {},
       "output_type": "pyout",
       "prompt_number": 48,
       "text": [
        "(-10.0, 110.0)"
       ]
      },
      {
       "metadata": {},
       "output_type": "display_data",
       "png": "[encoded data removed]",
       "text": [
        "<matplotlib.figure.Figure at 0x11594a910>"
       ]
      }
     ],
     "prompt_number": 48
    },
    {
     "cell_type": "code",
     "collapsed": false,
     "input": [
      "np.argmax([False, False, True, False, True])"
     ],
     "language": "python",
     "metadata": {},
     "outputs": [
      {
       "metadata": {},
       "output_type": "pyout",
       "prompt_number": 148,
       "text": [
        "2"
       ]
      }
     ],
     "prompt_number": 148
    },
    {
     "cell_type": "code",
     "collapsed": false,
     "input": [],
     "language": "python",
     "metadata": {},
     "outputs": []
    }
   ],
   "metadata": {}
  }
 ]
}