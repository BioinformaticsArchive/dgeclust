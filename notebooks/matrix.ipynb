{
 "metadata": {
  "name": "",
  "signature": "sha256:ca98edb277802515377474757e55dd8bcccbf9a591fbb38e2cdc7d211c58511a"
 },
 "nbformat": 3,
 "nbformat_minor": 0,
 "worksheets": [
  {
   "cells": [
    {
     "cell_type": "code",
     "collapsed": false,
     "input": [
      "%load_ext autoreload\n",
      "%autoreload 2\n",
      "\n",
      "from __future__ import division\n",
      "\n",
      "import os\n",
      "import string\n",
      "import pickle as pkl\n",
      "import numpy as np\n",
      "import pylab as pl\n",
      "import pandas as pd\n",
      "import sklearn.metrics as metrics\n",
      "\n",
      "%matplotlib inline"
     ],
     "language": "python",
     "metadata": {},
     "outputs": [],
     "prompt_number": 1
    },
    {
     "cell_type": "code",
     "collapsed": false,
     "input": [
      "fig_width_max = 3.34645669 * 2\n",
      "fig_height_max = 8.85826772\n",
      "golden_ratio = 1.61803398875\n",
      "\n",
      "pl.rcParams['axes.linewidth'] = .5\n",
      "pl.rcParams['lines.linewidth'] = .5\n",
      "pl.rcParams['patch.linewidth'] = .5\n",
      "\n",
      "pl.rcParams['legend.numpoints'] = 1\n",
      "\n",
      "pl.rcParams['font.size'] = 10\n",
      "pl.rcParams['axes.titlesize'] = 12\n",
      "pl.rcParams['axes.labelsize'] = 10\n",
      "pl.rcParams['xtick.labelsize'] = 8\n",
      "pl.rcParams['ytick.labelsize'] = 8\n",
      "pl.rcParams['legend.fontsize'] = 10"
     ],
     "language": "python",
     "metadata": {},
     "outputs": [],
     "prompt_number": 2
    },
    {
     "cell_type": "code",
     "collapsed": false,
     "input": [
      "## input\n",
      "def plot_matrix():\n",
      "    ## parameters\n",
      "    base = '/Users/dimitris/Repositories/matrix/group2/'\n",
      "    reps = ['1rep','2rep','3rep','4rep','5rep','7rep','10rep']\n",
      "    groups = ['2groups','3groups','4groups','5groups']\n",
      "    pairs = ['AB']*4\n",
      "    samples = [1,2,3]\n",
      "    FDR = 0.1\n",
      "    \n",
      "    ## loop over groups and replicas\n",
      "    pl.figure(figsize=(fig_width_max,fig_width_max))\n",
      "    scores_means = []\n",
      "    scores_errs = []\n",
      "    for rep in reps:  \n",
      "        means = []\n",
      "        errs = []\n",
      "        for group, pair in zip(groups, pairs):\n",
      "            metrs = []\n",
      "            for sample in samples:\n",
      "                ## ytrues\n",
      "                inds = pkl.load(open(os.path.join(base,'data/simdata{}.pkl'.format(sample)), 'rb'))['c']\n",
      "                inds = pd.DataFrame(inds, columns=list(string.uppercase[:20])) \n",
      "                inds = inds[list(pair)]\n",
      "                ytrues = (inds.icol(0)!=inds.icol(1)).values.ravel()\n",
      "\n",
      "                ## compute metrics\n",
      "                ypreds = pd.read_table(os.path.join(base, rep, group, 'pvals{}_{}_DESeq2.txt'.format(sample, pair))).padj < FDR\n",
      "                metr = metrics.matthews_corrcoef(ytrues, ypreds.values.ravel())\n",
      "                \n",
      "#                 yscores = [1-pd.read_table(os.path.join(base, rep, group, 'pvals{}_{}'.format(sample, pair)+'.txt')).Posteriors.values.ravel() for pair in pairs]\n",
      "#                 metr = [metrics.roc_auc_score(ytrue, yscore) for ytrue, yscore in zip(ytrues, yscores)]            \n",
      "\n",
      "#                 ypreds = pd.read_table(os.path.join(base, rep, group, 'pvals{}_{}_DESeq2.txt'.format(sample, pair))).padj < FDR\n",
      "#                 metr = np.sum(ypreds[np.logical_not(ytrues)]) / np.sum(ypreds)\n",
      "                \n",
      "                metrs.append(metr)\n",
      "            \n",
      "            means.append(np.mean(metrs))\n",
      "            errs.append(np.std(metrs))\n",
      "            \n",
      "        scores_means.append(means)\n",
      "        scores_errs.append(errs)\n",
      "    \n",
      "\n",
      "    ## plot\n",
      "    colors = ['blue', 'green', 'red', 'cyan', 'magenta']\n",
      "    lines = pl.plot(np.asarray(scores_means).T, '--o')\n",
      "    for means, errs, clr in zip(scores_means, scores_errs, colors):\n",
      "        pl.errorbar(range(len(means)), means, yerr=errs, fmt='o', color=clr)\n",
      "    \n",
      "    pl.legend(lines[::-1],['10 replicas/group','7 replicas/group','5 replicas/group','4 replicas/group','3 replicas/group',\n",
      "                           '2 replicas/group', '1 replica/group'],\n",
      "              loc=(0.7,0.2)).get_frame().set_alpha(0.8)\n",
      "\n",
      "    pl.xlim([-0.1,3.1])\n",
      "#     pl.ylim([0.5,0.9])\n",
      "#     pl.ylim([-0.01,0.61])\n",
      "    pl.gca().set_xticks([0, 1, 2, 3])\n",
      "    pl.gca().set_xticklabels(['2','3','4','5'])\n",
      "    pl.xlabel('# of groups')\n",
      "#     pl.ylabel('Area Under ROC Curve')\n",
      "    pl.ylabel('Matthews Correlation Coefficient')\n",
      "    \n",
      "##\n",
      "plot_matrix()\n",
      "pl.tight_layout()\n",
      "# pl.savefig('matrix_auc.pdf')"
     ],
     "language": "python",
     "metadata": {},
     "outputs": [
      {
       "metadata": {},
       "output_type": "display_data",
       "png": "[encoded data removed]",
       "text": [
        "<matplotlib.figure.Figure at 0x10df2dcd0>"
       ]
      }
     ],
     "prompt_number": 63
    },
    {
     "cell_type": "code",
     "collapsed": false,
     "input": [
      "pl.colors.colorConverter.to_rgba(['blue', 'green', 'red', 'cyan', 'magenta']) "
     ],
     "language": "python",
     "metadata": {},
     "outputs": [
      {
       "ename": "NameError",
       "evalue": "name 'pl' is not defined",
       "output_type": "pyerr",
       "traceback": [
        "\u001b[0;31m---------------------------------------------------------------------------\u001b[0m\n\u001b[0;31mNameError\u001b[0m                                 Traceback (most recent call last)",
        "\u001b[0;32m<ipython-input-2-2c54908d658e>\u001b[0m in \u001b[0;36m<module>\u001b[0;34m()\u001b[0m\n\u001b[0;32m----> 1\u001b[0;31m \u001b[0mpl\u001b[0m\u001b[0;34m.\u001b[0m\u001b[0mcolors\u001b[0m\u001b[0;34m.\u001b[0m\u001b[0mcolorConverter\u001b[0m\u001b[0;34m.\u001b[0m\u001b[0mto_rgba\u001b[0m\u001b[0;34m(\u001b[0m\u001b[0;34m[\u001b[0m\u001b[0;34m'blue'\u001b[0m\u001b[0;34m,\u001b[0m \u001b[0;34m'green'\u001b[0m\u001b[0;34m,\u001b[0m \u001b[0;34m'red'\u001b[0m\u001b[0;34m,\u001b[0m \u001b[0;34m'cyan'\u001b[0m\u001b[0;34m,\u001b[0m \u001b[0;34m'magenta'\u001b[0m\u001b[0;34m]\u001b[0m\u001b[0;34m)\u001b[0m\u001b[0;34m\u001b[0m\u001b[0m\n\u001b[0m",
        "\u001b[0;31mNameError\u001b[0m: name 'pl' is not defined"
       ]
      }
     ],
     "prompt_number": 2
    },
    {
     "cell_type": "code",
     "collapsed": false,
     "input": [
      "import itertools as it"
     ],
     "language": "python",
     "metadata": {},
     "outputs": [],
     "prompt_number": 51
    },
    {
     "cell_type": "code",
     "collapsed": false,
     "input": [
      "' ' .join([letter for letter in letters[:3] for _ in range(4)])"
     ],
     "language": "python",
     "metadata": {},
     "outputs": [
      {
       "ename": "NameError",
       "evalue": "name 'letters' is not defined",
       "output_type": "pyerr",
       "traceback": [
        "\u001b[0;31m---------------------------------------------------------------------------\u001b[0m\n\u001b[0;31mNameError\u001b[0m                                 Traceback (most recent call last)",
        "\u001b[0;32m<ipython-input-11-37c1472fe3b6>\u001b[0m in \u001b[0;36m<module>\u001b[0;34m()\u001b[0m\n\u001b[0;32m----> 1\u001b[0;31m \u001b[0;34m' '\u001b[0m \u001b[0;34m.\u001b[0m\u001b[0mjoin\u001b[0m\u001b[0;34m(\u001b[0m\u001b[0;34m[\u001b[0m\u001b[0mletter\u001b[0m \u001b[0;32mfor\u001b[0m \u001b[0mletter\u001b[0m \u001b[0;32min\u001b[0m \u001b[0mletters\u001b[0m\u001b[0;34m[\u001b[0m\u001b[0;34m:\u001b[0m\u001b[0;36m3\u001b[0m\u001b[0;34m]\u001b[0m \u001b[0;32mfor\u001b[0m \u001b[0m_\u001b[0m \u001b[0;32min\u001b[0m \u001b[0mrange\u001b[0m\u001b[0;34m(\u001b[0m\u001b[0;36m4\u001b[0m\u001b[0;34m)\u001b[0m\u001b[0;34m]\u001b[0m\u001b[0;34m)\u001b[0m\u001b[0;34m\u001b[0m\u001b[0m\n\u001b[0m",
        "\u001b[0;31mNameError\u001b[0m: name 'letters' is not defined"
       ]
      }
     ],
     "prompt_number": 11
    },
    {
     "cell_type": "code",
     "collapsed": false,
     "input": [
      "' '.join([item for item in string.uppercase[:3] for _ in range(4)])"
     ],
     "language": "python",
     "metadata": {},
     "outputs": [
      {
       "metadata": {},
       "output_type": "pyout",
       "prompt_number": 20,
       "text": [
        "'A A A A B B B B C C C C'"
       ]
      }
     ],
     "prompt_number": 20
    },
    {
     "cell_type": "code",
     "collapsed": false,
     "input": [
      "g, r = 3, 4\n",
      "\n",
      "' '.join(['sample' + str(item) for item in range(1,r+1)*g + np.repeat(range(0,g), r)*10])"
     ],
     "language": "python",
     "metadata": {},
     "outputs": [
      {
       "metadata": {},
       "output_type": "pyout",
       "prompt_number": 58,
       "text": [
        "'sample1 sample2 sample3 sample4 sample11 sample12 sample13 sample14 sample21 sample22 sample23 sample24'"
       ]
      }
     ],
     "prompt_number": 58
    },
    {
     "cell_type": "code",
     "collapsed": false,
     "input": [
      "np.repeat(range(0:g)*10, r)"
     ],
     "language": "python",
     "metadata": {},
     "outputs": [
      {
       "ename": "SyntaxError",
       "evalue": "invalid syntax (<ipython-input-37-400d64df0907>, line 1)",
       "output_type": "pyerr",
       "traceback": [
        "\u001b[0;36m  File \u001b[0;32m\"<ipython-input-37-400d64df0907>\"\u001b[0;36m, line \u001b[0;32m1\u001b[0m\n\u001b[0;31m    np.repeat(range(0:g)*10, r)\u001b[0m\n\u001b[0m                     ^\u001b[0m\n\u001b[0;31mSyntaxError\u001b[0m\u001b[0;31m:\u001b[0m invalid syntax\n"
       ]
      }
     ],
     "prompt_number": 37
    },
    {
     "cell_type": "code",
     "collapsed": false,
     "input": [],
     "language": "python",
     "metadata": {},
     "outputs": []
    }
   ],
   "metadata": {}
  }
 ]
}